{
  "nbformat": 4,
  "nbformat_minor": 0,
  "metadata": {
    "colab": {
      "provenance": [],
      "authorship_tag": "ABX9TyPhMWu3KxG7PWWSV8KaM3f3",
      "include_colab_link": true
    },
    "kernelspec": {
      "name": "python3",
      "display_name": "Python 3"
    },
    "language_info": {
      "name": "python"
    }
  },
  "cells": [
    {
      "cell_type": "markdown",
      "metadata": {
        "id": "view-in-github",
        "colab_type": "text"
      },
      "source": [
        "<a href=\"https://colab.research.google.com/github/raziarasheed/Assignment6-build-compose/blob/main/Assignment6.ipynb\" target=\"_parent\"><img src=\"https://colab.research.google.com/assets/colab-badge.svg\" alt=\"Open In Colab\"/></a>"
      ]
    },
    {
      "cell_type": "code",
      "execution_count": 6,
      "metadata": {
        "colab": {
          "base_uri": "https://localhost:8080/"
        },
        "id": "8MgjPUSrNsiM",
        "outputId": "e2c1f1e7-a0f2-457b-dd72-1668947a34b4"
      },
      "outputs": [
        {
          "output_type": "stream",
          "name": "stdout",
          "text": [
            "Student1 Details: Name:,razia ,Marks:,90\n",
            "razia 90\n",
            "Student2 Details: Name:,alia ,Marks:,80\n"
          ]
        }
      ],
      "source": [
        "#Assignment:\n",
        "#create a class Student with attributes name and marks. Use the self keyword to initialize these values via a constructor. Add a method display() that prints student details.\n",
        "class Student:\n",
        "    def __init__(self,name,marks):\n",
        "        self.name=name\n",
        "        self.marks=marks\n",
        "    def display(self):\n",
        "        return(f\"Name:,{self.name} ,Marks:,{self.marks}\")\n",
        "        #return(\"Name:\",self.name\n",
        "        #return(\"Marks:\",self.marks)\n",
        "student1:Student = Student(\"razia\",90)\n",
        "student2:Student = Student(\"alia\",80)\n",
        "print(\"Student1 Details:\",student1.display())\n",
        "print(student1.name,student1.marks)\n",
        "print(\"Student2 Details:\",student2.display())\n",
        "\n"
      ]
    },
    {
      "cell_type": "code",
      "source": [
        "#Using cls\n",
        "#Assignment:\n",
        "\n",
        "#Create a class Counter that keeps track of how many objects have been created. Use a class variable and a class method with cls to manage and display the count.\n",
        "\n",
        "class Counter:\n",
        "    count = 0\n",
        "\n",
        "    def __init__(self):\n",
        "        Counter.count += 1\n",
        "\n",
        "    @classmethod\n",
        "    def display_count(cls):\n",
        "        return(f\"Total objects created: {cls.count}\")\n",
        "obj1 :Counter =Counter()\n",
        "obj2 :Counter= Counter()\n",
        "obj3 :Counter= Counter()\n",
        "print(Counter.display_count())\n",
        "\n",
        "\n",
        "\n",
        "\n",
        "\n",
        "\n",
        "\n",
        "\n"
      ],
      "metadata": {
        "colab": {
          "base_uri": "https://localhost:8080/"
        },
        "id": "haZEVBQGPpPM",
        "outputId": "486222e8-fae3-42fd-9499-85fd39af4592"
      },
      "execution_count": 9,
      "outputs": [
        {
          "output_type": "stream",
          "name": "stdout",
          "text": [
            "Total objects created: 3\n"
          ]
        }
      ]
    },
    {
      "cell_type": "code",
      "source": [
        "#3. Public Variables and Methods\n",
        "#Assignment:\n",
        "#Create a class Car with a public variable brand and a public method start(). Instantiate the class and access both from outside the class.\n",
        "\n",
        "\n",
        "class Car:\n",
        "  def __init__(self, brand):\n",
        "    self.brand = brand\n",
        "\n",
        "  def start(self):\n",
        "    return(f\"{self.brand}Starting the car\")\n",
        "\n",
        "car = Car(\"Toyota\")\n",
        "print(car.brand)\n",
        "car.start()"
      ],
      "metadata": {
        "colab": {
          "base_uri": "https://localhost:8080/",
          "height": 53
        },
        "id": "wuRTU3SqY7pM",
        "outputId": "80325b75-32a4-449d-c4af-cc3413488b5b"
      },
      "execution_count": 10,
      "outputs": [
        {
          "output_type": "stream",
          "name": "stdout",
          "text": [
            "Toyota\n"
          ]
        },
        {
          "output_type": "execute_result",
          "data": {
            "text/plain": [
              "'ToyotaStarting the car'"
            ],
            "application/vnd.google.colaboratory.intrinsic+json": {
              "type": "string"
            }
          },
          "metadata": {},
          "execution_count": 10
        }
      ]
    },
    {
      "cell_type": "code",
      "source": [
        "# Class Variables and Class Methods\n",
        "#Assignment:\n",
        "#Create a class Bank with a class variable bank_name. Add a class method change_bank_name(cls, name) that allows changing the bank name. Show that it affects all instances.\n",
        "\n",
        "class Bank:\n",
        "    bank_name = \"ABC Bank\"\n",
        "    @classmethod\n",
        "    def change_bank_name(cls,name):\n",
        "        cls.bank_name = name\n",
        "b1:Bank = Bank()\n",
        "print(b1.bank_name)\n",
        "b2:Bank = Bank()\n",
        "print(b2.bank_name)\n",
        "Bank.change_bank_name(\"XYZ Bank\")\n",
        "print(b1.bank_name)\n",
        "print(b2.bank_name)\n",
        "\n",
        "\n"
      ],
      "metadata": {
        "colab": {
          "base_uri": "https://localhost:8080/"
        },
        "id": "CQUf8r5ja5fl",
        "outputId": "c553dd33-4460-4530-d073-318c2f087956"
      },
      "execution_count": 11,
      "outputs": [
        {
          "output_type": "stream",
          "name": "stdout",
          "text": [
            "ABC Bank\n",
            "ABC Bank\n",
            "XYZ Bank\n",
            "XYZ Bank\n"
          ]
        }
      ]
    },
    {
      "cell_type": "code",
      "source": [
        "#. Static Variables and Static Methods\n",
        "#Assignment:\n",
        "#Create a class MathUtils with a static method add(a, b) that returns the sum. No class or instance variables should be used.\n",
        "\n",
        "class MathUtils:\n",
        "    @staticmethod\n",
        "    def add(a,b):\n",
        "        return(a+b)\n",
        "print(MathUtils.add(2,3))\n",
        "\n"
      ],
      "metadata": {
        "colab": {
          "base_uri": "https://localhost:8080/"
        },
        "id": "eI8EWHOvcbin",
        "outputId": "d2d18d8e-c195-433d-becf-e1588510ee6d"
      },
      "execution_count": 13,
      "outputs": [
        {
          "output_type": "stream",
          "name": "stdout",
          "text": [
            "5\n"
          ]
        }
      ]
    },
    {
      "cell_type": "code",
      "source": [
        "#6. Constructors and Destructors\n",
        "#Assignment:\n",
        "#Create a class Logger that prints a message when an object is created (constructor) and another message when it is destroyed (destructor).\n",
        "\n",
        "class Logger:\n",
        "  def __init__(self, message):\n",
        "    self.message = message\n",
        "    print(f\"Logger created with message: {self.message}\")\n",
        "\n",
        "  def __del__(self):\n",
        "    print(f\"Logger destroyed with message: {self.message}\")\n",
        "log:Logger=Logger(\"Hello\")\n",
        "print(log)\n",
        "del log\n",
        "\n"
      ],
      "metadata": {
        "colab": {
          "base_uri": "https://localhost:8080/"
        },
        "id": "8PKaKRiWdGZN",
        "outputId": "b5608762-2199-4ec2-9b55-f4fc47777ffb"
      },
      "execution_count": 14,
      "outputs": [
        {
          "output_type": "stream",
          "name": "stdout",
          "text": [
            "Logger created with message: Hello\n",
            "<__main__.Logger object at 0x7a46b54e5c90>\n",
            "Logger destroyed with message: Hello\n"
          ]
        }
      ]
    },
    {
      "cell_type": "code",
      "source": [
        "#7. Access Modifiers: Public, Private, and Protected\n",
        "#Assignment:\n",
        "#Create a class Employee with:\n",
        "\n",
        "#a public variable name,\n",
        "\n",
        "# protected variable _salary, and\n",
        "\n",
        "#private variable __ssn.\n",
        "   # Try accessing all three variables from an object of the class and document what happens.''''\n",
        "\n",
        "\n",
        "class Employee:\n",
        "    def __init__(self, name, salary, ssn):\n",
        "        self.name = name\n",
        "        self._salary = salary\n",
        "        self.__ssn = ssn\n",
        "emp1:Employee = Employee(\"John Doe\", 50000, \"123-45-6789\")\n",
        "print(emp1.name)\n",
        "print(emp1._salary)\n",
        "print(emp1._Employee__ssn)\n",
        "\n"
      ],
      "metadata": {
        "colab": {
          "base_uri": "https://localhost:8080/"
        },
        "id": "5lp3QpKjeEMO",
        "outputId": "1b95824b-ac75-421c-d537-46db4d74593a"
      },
      "execution_count": 19,
      "outputs": [
        {
          "output_type": "stream",
          "name": "stdout",
          "text": [
            "John Doe\n",
            "50000\n",
            "123-45-6789\n"
          ]
        }
      ]
    },
    {
      "cell_type": "code",
      "source": [
        "#. The super() Function\n",
        "#Assignment:\n",
        "#Create a class Person with a constructor that sets the name. Inherit a class Teacher from it, add a subject field, and use super() to call the base class constructor.\n",
        "\n",
        "class Person:\n",
        "    def __init__(self, name):\n",
        "        self.name = name\n",
        "class Teacher(Person):\n",
        "    def __init__(self, name, subject):\n",
        "        super().__init__(name)\n",
        "        self.subject = subject\n",
        "teacher: Teacher =Teacher(\"Razia Shakeel\" ,\"Mathematics\")\n",
        "\n",
        "print(teacher.name)\n",
        "print(teacher.subject)\n",
        "\n"
      ],
      "metadata": {
        "colab": {
          "base_uri": "https://localhost:8080/"
        },
        "id": "EqXpnzEVgjgg",
        "outputId": "0b64ef95-acab-417d-8150-328cce0b46a6"
      },
      "execution_count": 23,
      "outputs": [
        {
          "output_type": "stream",
          "name": "stdout",
          "text": [
            "Razia Shakeel\n",
            "Mathematics\n"
          ]
        }
      ]
    },
    {
      "cell_type": "code",
      "source": [
        "#9. Abstract Classes and Methods\n",
        "#Assignment:\n",
        "#Use the abc module to create an abstract class Shape with an abstract method area(). Inherit a class Rectangle that implements area().\n",
        "\n",
        "\n",
        "from abc import ABC, abstractmethod\n",
        "class Shape(ABC):\n",
        "    @abstractmethod\n",
        "    def area(self):\n",
        "        pass\n",
        "class Rectangle(Shape):\n",
        "    def __init__(self, length, width):\n",
        "        self.length = length\n",
        "        self.width = width\n",
        "    def area(self):\n",
        "        return self.length * self.width\n",
        "\n",
        "Rectangle = Rectangle(5, 3)\n",
        "print(Rectangle.area())\n",
        "\n"
      ],
      "metadata": {
        "colab": {
          "base_uri": "https://localhost:8080/"
        },
        "id": "enVcdIcKimzK",
        "outputId": "c1c816db-d2aa-4d32-f276-7ca78f6f61d6"
      },
      "execution_count": 25,
      "outputs": [
        {
          "output_type": "stream",
          "name": "stdout",
          "text": [
            "15\n"
          ]
        }
      ]
    },
    {
      "cell_type": "code",
      "source": [
        "#10. Instance Methods\n",
        "#Assignment:\n",
        "#Create a class Dog with instance variables name and breed. Add an instance method bark() that prints a message including the dog's.\n",
        "\n",
        "\n",
        "\n",
        "class Dog:\n",
        "    def __init__(self, name, breed):\n",
        "        self.name = name\n",
        "        self.breed = breed\n",
        "\n",
        "    def bark(self):\n",
        "        print(f\"{self.name} the {self.breed} is barking!\")\n",
        "dog:Dog = Dog(\"Buddy\", \"Golden Retriever\")\n",
        "dog.bark()"
      ],
      "metadata": {
        "colab": {
          "base_uri": "https://localhost:8080/"
        },
        "id": "ceaBaVyznwdd",
        "outputId": "c72763d1-d504-43b2-8a95-d710c2dab4bc"
      },
      "execution_count": 26,
      "outputs": [
        {
          "output_type": "stream",
          "name": "stdout",
          "text": [
            "Buddy the Golden Retriever is barking!\n"
          ]
        }
      ]
    }
  ]
}